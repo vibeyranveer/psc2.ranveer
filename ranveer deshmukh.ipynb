{
 "cells": [
  {
   "cell_type": "code",
   "execution_count": 2,
   "id": "87346b57-3bac-4b67-85a0-e1b24f70ef7e",
   "metadata": {},
   "outputs": [],
   "source": [
    "s = \" this is first pithon programing class and i am larning paython string and its function \""
   ]
  },
  {
   "cell_type": "code",
   "execution_count": 3,
   "id": "5ca51b31-eebf-466d-baf5-b5f5e03aa2eb",
   "metadata": {},
   "outputs": [
    {
     "data": {
      "text/plain": [
       "' this is first pithon programing class and i am larning paython string and its function '"
      ]
     },
     "execution_count": 3,
     "metadata": {},
     "output_type": "execute_result"
    }
   ],
   "source": [
    "s"
   ]
  },
  {
   "cell_type": "code",
   "execution_count": 4,
   "id": "faddb3b4-fce0-4440-af51-84633511b79b",
   "metadata": {},
   "outputs": [
    {
     "data": {
      "text/plain": [
       "'tssitiopgmglsnimai yosi dtfco'"
      ]
     },
     "execution_count": 4,
     "metadata": {},
     "output_type": "execute_result"
    }
   ],
   "source": [
    "s[1:300:3]"
   ]
  },
  {
   "cell_type": "code",
   "execution_count": 11,
   "id": "c76e1ae4-fd28-4968-95bd-dc37a0d73bb9",
   "metadata": {},
   "outputs": [],
   "source": [
    "s1 = \"we are learning problem solving using computation\""
   ]
  },
  {
   "cell_type": "code",
   "execution_count": 12,
   "id": "b71d42fa-e762-4c05-a959-f8fe710501bc",
   "metadata": {},
   "outputs": [
    {
     "data": {
      "text/plain": [
       "'e'"
      ]
     },
     "execution_count": 12,
     "metadata": {},
     "output_type": "execute_result"
    }
   ],
   "source": [
    "# extract data from 1 to 10 jump of 2 \n",
    "s1[1:11:14]"
   ]
  },
  {
   "cell_type": "markdown",
   "id": "a3297c03-1546-429c-9338-89de98ee2b6c",
   "metadata": {},
   "source": [
    "2.Try to revers a string  without using revers function "
   ]
  },
  {
   "cell_type": "code",
   "execution_count": 13,
   "id": "70c54cb3-17b3-48a9-9640-877690cce324",
   "metadata": {},
   "outputs": [
    {
     "data": {
      "text/plain": [
       "' noitcnuf sti dna gnirts nohtyap gninral ma i dna ssalc gnimargorp nohtip tsrif si siht '"
      ]
     },
     "execution_count": 13,
     "metadata": {},
     "output_type": "execute_result"
    }
   ],
   "source": [
    "s[::-1]"
   ]
  },
  {
   "cell_type": "markdown",
   "id": "0e4e37c0-91ab-4a2e-8e13-9eced2798451",
   "metadata": {},
   "source": [
    "3. Try to split the string after the conversion of entire string in uppercase "
   ]
  },
  {
   "cell_type": "code",
   "execution_count": 14,
   "id": "3aa01d24-b6e2-4c84-a36c-89ffbd4b8315",
   "metadata": {},
   "outputs": [
    {
     "data": {
      "text/plain": [
       "['THIS',\n",
       " 'IS',\n",
       " 'FIRST',\n",
       " 'PITHON',\n",
       " 'PROGRAMING',\n",
       " 'CLASS',\n",
       " 'AND',\n",
       " 'I',\n",
       " 'AM',\n",
       " 'LARNING',\n",
       " 'PAYTHON',\n",
       " 'STRING',\n",
       " 'AND',\n",
       " 'ITS',\n",
       " 'FUNCTION']"
      ]
     },
     "execution_count": 14,
     "metadata": {},
     "output_type": "execute_result"
    }
   ],
   "source": [
    "s1= s.upper()\n",
    "s1.split()"
   ]
  },
  {
   "cell_type": "code",
   "execution_count": 15,
   "id": "febe72f9-deca-4867-9f7d-9ce442381c64",
   "metadata": {},
   "outputs": [
    {
     "data": {
      "text/plain": [
       "['THIS',\n",
       " 'IS',\n",
       " 'FIRST',\n",
       " 'PITHON',\n",
       " 'PROGRAMING',\n",
       " 'CLASS',\n",
       " 'AND',\n",
       " 'I',\n",
       " 'AM',\n",
       " 'LARNING',\n",
       " 'PAYTHON',\n",
       " 'STRING',\n",
       " 'AND',\n",
       " 'ITS',\n",
       " 'FUNCTION']"
      ]
     },
     "execution_count": 15,
     "metadata": {},
     "output_type": "execute_result"
    }
   ],
   "source": [
    "# method 2 \n",
    "s. upper().split()"
   ]
  },
  {
   "cell_type": "code",
   "execution_count": 16,
   "id": "b60c66d1-739c-4d2d-89e2-bb7b7e3b1e81",
   "metadata": {},
   "outputs": [
    {
     "data": {
      "text/plain": [
       "' this is first pithon programing class and i am larning paython string and its function '"
      ]
     },
     "execution_count": 16,
     "metadata": {},
     "output_type": "execute_result"
    }
   ],
   "source": [
    "s. lower()"
   ]
  },
  {
   "cell_type": "markdown",
   "id": "5ada3022-bebc-4b99-8483-e6ff243b0a2a",
   "metadata": {},
   "source": [
    "Try to capitalize the whole string"
   ]
  },
  {
   "cell_type": "code",
   "execution_count": 17,
   "id": "13dc2ea8-f72f-4695-b0e4-91896b7b86c3",
   "metadata": {},
   "outputs": [
    {
     "data": {
      "text/plain": [
       "' this is first pithon programing class and i am larning paython string and its function '"
      ]
     },
     "execution_count": 17,
     "metadata": {},
     "output_type": "execute_result"
    }
   ],
   "source": [
    "s.capitalize()"
   ]
  },
  {
   "cell_type": "markdown",
   "id": "46a8f18b-65a8-4b79-8084-881a9ad0bb4a",
   "metadata": {},
   "source": [
    "write a difference between isalnum()andslpha()"
   ]
  },
  {
   "cell_type": "code",
   "execution_count": 18,
   "id": "3e466edf-b755-4f53-9f44-edba147a0fea",
   "metadata": {},
   "outputs": [],
   "source": [
    "# isalpha give the value as true is all character is the string are alphabets and isalnum  gives all the string character are either alphabets and number"
   ]
  },
  {
   "cell_type": "code",
   "execution_count": 19,
   "id": "2701a438-033f-45dd-9b0c-f6a5259f2868",
   "metadata": {},
   "outputs": [],
   "source": [
    "# for example "
   ]
  },
  {
   "cell_type": "code",
   "execution_count": 21,
   "id": "39710678-63d2-4f30-bf57-c84910f89b5e",
   "metadata": {},
   "outputs": [],
   "source": [
    "test = \"acde\"\n",
    "test1 = \"ab24c5\""
   ]
  },
  {
   "cell_type": "code",
   "execution_count": 22,
   "id": "9730f333-e9ec-48a9-9ee9-62e5e73bfbef",
   "metadata": {},
   "outputs": [
    {
     "data": {
      "text/plain": [
       "True"
      ]
     },
     "execution_count": 22,
     "metadata": {},
     "output_type": "execute_result"
    }
   ],
   "source": [
    "test.isalpha()"
   ]
  },
  {
   "cell_type": "code",
   "execution_count": 23,
   "id": "b99bfbad-71ef-4e1b-bf50-91e2e512bfe0",
   "metadata": {},
   "outputs": [
    {
     "data": {
      "text/plain": [
       "True"
      ]
     },
     "execution_count": 23,
     "metadata": {},
     "output_type": "execute_result"
    }
   ],
   "source": [
    "test1.isalnum()"
   ]
  },
  {
   "cell_type": "markdown",
   "id": "2e2bbb49-b389-444f-911b-e8c8e0aca7dc",
   "metadata": {},
   "source": [
    "tey to give an example of an expand tab "
   ]
  },
  {
   "cell_type": "code",
   "execution_count": 24,
   "id": "e04f86f7-92fa-4317-af69-a336cdc58610",
   "metadata": {},
   "outputs": [],
   "source": [
    "exp=\"This\\thi\\ta\\texample\""
   ]
  },
  {
   "cell_type": "code",
   "execution_count": null,
   "id": "0c50991b-dcdf-4c85-8de4-6a7b3a0c35ea",
   "metadata": {},
   "outputs": [],
   "source": []
  }
 ],
 "metadata": {
  "kernelspec": {
   "display_name": "Python 3 (ipykernel)",
   "language": "python",
   "name": "python3"
  },
  "language_info": {
   "codemirror_mode": {
    "name": "ipython",
    "version": 3
   },
   "file_extension": ".py",
   "mimetype": "text/x-python",
   "name": "python",
   "nbconvert_exporter": "python",
   "pygments_lexer": "ipython3",
   "version": "3.12.4"
  }
 },
 "nbformat": 4,
 "nbformat_minor": 5
}
